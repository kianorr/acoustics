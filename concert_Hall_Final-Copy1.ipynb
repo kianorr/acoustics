{
 "cells": [
  {
   "cell_type": "code",
   "execution_count": 9,
   "metadata": {},
   "outputs": [],
   "source": [
    "import numpy as np\n",
    "import matplotlib.pyplot as plt\n",
    "import math"
   ]
  },
  {
   "cell_type": "code",
   "execution_count": 10,
   "metadata": {},
   "outputs": [],
   "source": [
    "#setting up matrix (size of hall)\n",
    "columns = 10\n",
    "rows = 15\n",
    "M = np.zeros((rows, columns))"
   ]
  },
  {
   "cell_type": "code",
   "execution_count": 11,
   "metadata": {},
   "outputs": [],
   "source": [
    "#Parameters\n",
    "d = columns/2 + 0.5\n",
    "x = -d\n",
    "y = 0\n",
    "t = 1\n",
    "v = 344 #speed of sound\n",
    "f = 440 #frequency\n",
    "B = 76 #decibels\n",
    "R = 0.1 #radius for power equation\n",
    "p = 1.225 #air density\n",
    "a = 0.1 #sound absorption, a=1 is full absorption, a=0 is no absorption\n",
    "\n",
    "# necessary equations\n",
    "w = 2 * np.pi * f #angular frequency\n",
    "P = 4 * np.pi * R**2 * 10**-12 * 10**(B/10) #Power (with intensity plugged in)\n",
    "Q = math.sqrt(P / (2 * np.pi * p * v * w**2)) #Amplitude of sound wave\n",
    "QAbsorbed = math.sqrt(P * a / (2 * np.pi * p * v * w**2)) #Amplitude of absorbed sound wave\n",
    "\n",
    "#functions\n",
    "\n",
    "#path going directly to coordinate (all of the geometry was done on paper and is on Github)\n",
    "def r_direct (A, B):\n",
    "    return math.sqrt(A**2 + B**2)\n",
    "#paths going from the source to the wall\n",
    "def r_13 (A, B, d):\n",
    "    return d * math.sqrt(B / (2 * d + A)**2 + 1)\n",
    "#paths going from wall to source\n",
    "def r_24 (A, B, d):\n",
    "    return math.sqrt((y * (2 * d + A / d))**2 + (d + B)**2)\n",
    "#differences between paths\n",
    "def pathDifference (A, B, C):\n",
    "    return A + B - C\n",
    "#phase difference\n",
    "def phaseDifference (path, freq, vel):\n",
    "    return 2 * np.pi * path * freq / vel\n",
    "#total amplitude\n",
    "def amplitude (q, r1, r2):\n",
    "    return q * 1 / (r1 + r2)\n",
    "#x component of amplitude\n",
    "def amplitude_x (amp, phd):\n",
    "    return amp * np.cos(w * t + phd)\n",
    "#y component of amplitude\n",
    "def amplitude_y (amp, phd):\n",
    "    return amp * np.sin(w * t + phd)\n",
    "\n",
    "#determining sound level at each coordinate of the hall\n",
    "for i in M:\n",
    "    y += 1\n",
    "    for j in range(len(i)):\n",
    "        x += 1\n",
    "        \n",
    "        # paths as described above in functions\n",
    "        rDirect = r_direct(x, y)\n",
    "        r_1 = r_13(-x, y, d)\n",
    "        r_2 = r_24(-x, y, d)\n",
    "        r_3 = r_13(x, y, d)\n",
    "        r_4 = r_24(x, y, d)\n",
    "        \n",
    "        #Path differences\n",
    "        pathDif_1 = pathDifference(r_1, r_2, rDirect)\n",
    "        pathDif_2 = pathDifference(r_3, r_4, rDirect)\n",
    "        phaseDif_1 = phaseDifference(pathDif_1, f, v)\n",
    "        phaseDif_2 = phaseDifference(pathDif_2, f, v)\n",
    "        \n",
    "        #Amplitudes\n",
    "        amp_1 = amplitude(Q, r_1, r_2)\n",
    "        ampAbsorbed_1 = amplitude(QAbsorbed, r_1, r_2)\n",
    "\n",
    "        A1x = amplitude_x(amp_1, phaseDif_1) - amplitude_x(ampAbsorbed_1, phaseDif_1)\n",
    "        A1y = amplitude_y(amp_1, phaseDif_1) - amplitude_y(ampAbsorbed_1, phaseDif_1)\n",
    "        \n",
    "        amp_2 = amplitude(Q, r_3, r_4)\n",
    "        ampAbsorbed_2 = amplitude(QAbsorbed, r_3, r_4)\n",
    "\n",
    "        A2x = amplitude_x(amp_2, phaseDif_2) - amplitude_x(ampAbsorbed_2, phaseDif_2)\n",
    "        A2y = amplitude_y(amp_2, phaseDif_2) - amplitude_y(ampAbsorbed_2, phaseDif_2)\n",
    "        \n",
    "            #wave that goes directly to (x,y) coord without hitting wall\n",
    "        ampDirect = amplitude(Q, rDirect, 0)\n",
    "        ampDirect_x = amplitude_x(ampDirect, 0)\n",
    "        ampDirect_y = amplitude_y(ampDirect, 0)\n",
    "        \n",
    "        ampTot = (A1x + A2x + ampDirect_x)**2 + (A1y + A2y + ampDirect_y)**2\n",
    "        \n",
    "        #plugging amplitudes back into intensity\n",
    "        intensity = 0.5 * p * v * w**2 * ampTot\n",
    "        i[j] = 10 * math.log(intensity / 10**-12)\n",
    "    x = -d"
   ]
  },
  {
   "cell_type": "code",
   "execution_count": 12,
   "metadata": {},
   "outputs": [
    {
     "data": {
      "image/png": "[encoded data removed]",
      "text/plain": [
       "<Figure size 432x288 with 2 Axes>"
      ]
     },
     "metadata": {
      "needs_background": "light"
     },
     "output_type": "display_data"
    }
   ],
   "source": [
    "#plotting of sound distribution\n",
    "fig, ax = plt.subplots()\n",
    "im = ax.imshow(M, interpolation = 'spline16', vmin = np.amin(M), vmax = np.amax(M), origin = 'lower')\n",
    "fig.colorbar(im)\n",
    "plt.title('Boston Symphony Hall, a = 0.1')\n",
    "plt.show()"
   ]
  },
  {
   "cell_type": "code",
   "execution_count": null,
   "metadata": {},
   "outputs": [],
   "source": []
  }
 ],
 "metadata": {
  "kernelspec": {
   "display_name": "Python 3",
   "language": "python",
   "name": "python3"
  },
  "language_info": {
   "codemirror_mode": {
    "name": "ipython",
    "version": 3
   },
   "file_extension": ".py",
   "mimetype": "text/x-python",
   "name": "python",
   "nbconvert_exporter": "python",
   "pygments_lexer": "ipython3",
   "version": "3.7.3"
  }
 },
 "nbformat": 4,
 "nbformat_minor": 2
}
